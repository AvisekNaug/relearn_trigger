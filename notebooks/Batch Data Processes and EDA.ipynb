{
 "cells": [
  {
   "cell_type": "markdown",
   "metadata": {
    "heading_collapsed": true
   },
   "source": [
    "## Data Collection"
   ]
  },
  {
   "cell_type": "code",
   "execution_count": 1,
   "metadata": {
    "ExecuteTime": {
     "end_time": "2020-07-31T20:46:13.301011Z",
     "start_time": "2020-07-31T20:46:12.784000Z"
    },
    "hidden": true
   },
   "outputs": [],
   "source": [
    "# including the project directory to the notebook level\n",
    "import os\n",
    "import sys\n",
    "module_path = os.path.abspath(os.path.join('..'))\n",
    "if module_path not in sys.path:\n",
    "    sys.path.append(module_path)\n",
    "    \n",
    "# import modules\n",
    "from alumni_scripts import data_process as dp\n",
    "import json"
   ]
  },
  {
   "cell_type": "code",
   "execution_count": null,
   "metadata": {
    "ExecuteTime": {
     "end_time": "2020-06-26T18:06:59.581490Z",
     "start_time": "2020-06-26T18:06:59.131895Z"
    },
    "hidden": true
   },
   "outputs": [],
   "source": [
    "# run a single update of the data pull\n",
    "with open('../auths.json', 'r') as fp:\n",
    "    api_args = json.load(fp)\n",
    "\n",
    "time_args = {\n",
    "    'start_year': 2019,'start_month': 4,'start_day': 1,'start_hour': 20,'start_minute': 0,'start_second': 0,\n",
    "    'end_year':   2019,'end_month'  : 4,'end_day'  : 2,'end_hour'  : 2,'end_minute'  :  0,'end_second'  : 0,\n",
    "    'trend_id': '2681',\n",
    "    'save_path':'../data/raw_data/alumni_data.csv'\n",
    "}\n",
    "api_args.update(time_args)\n",
    "\n",
    "dp.pull_offline_data(**api_args)"
   ]
  },
  {
   "cell_type": "code",
   "execution_count": null,
   "metadata": {
    "hidden": true,
    "run_control": {
     "marked": false
    }
   },
   "outputs": [],
   "source": [
    "# download data in a loop\n",
    "time_args = [\n",
    "    {\n",
    "    'start_year': 2018,'start_month': 7,'start_day': 1,'start_hour': 0,'start_minute': 0,'start_second': 0,\n",
    "    'end_year': 2018,'end_month': 12,'end_day': 31,'end_hour': 23,'end_minute': 59,'end_second': 59,\n",
    "    'trend_id': '2681',\n",
    "    'save_path':'../data/raw_data/alumni_data_jul2dec2018.csv'\n",
    "    },\n",
    "    {\n",
    "    'start_year': 2019,'start_month': 1,'start_day': 1,'start_hour': 0,'start_minute': 0,'start_second': 0,\n",
    "    'end_year': 2019,'end_month': 6,'end_day': 30,'end_hour': 23,'end_minute': 59,'end_second': 59,\n",
    "    'trend_id': '2681',\n",
    "    'save_path':'../data/raw_data/alumni_data_jan2jun2019.csv'  \n",
    "    },\n",
    "    {\n",
    "    'start_year': 2019,'start_month': 7,'start_day': 1,'start_hour': 0,'start_minute': 0,'start_second': 0,\n",
    "    'end_year': 2019,'end_month': 12,'end_day': 31,'end_hour': 23,'end_minute': 59,'end_second': 59,\n",
    "    'trend_id': '2681',\n",
    "    'save_path':'../data/raw_data/alumni_data_jul2dec2019.csv'  \n",
    "    },\n",
    "    {\n",
    "    'start_year': 2020,'start_month': 1,'start_day': 1,'start_hour': 0,'start_minute': 0,'start_second': 0,\n",
    "    'end_year': 2020,'end_month': 6,'end_day': 15,'end_hour': 23,'end_minute': 59,'end_second': 59,\n",
    "    'trend_id': '2681',\n",
    "    'save_path':'../data/raw_data/alumni_data_jan2jun2020.csv'  \n",
    "    }\n",
    "]\n",
    "for i in time_args:\n",
    "    with open('../auths.json', 'r') as fp:\n",
    "        api_args = json.load(fp)\n",
    "    api_args.update(i)\n",
    "    dp.pull_offline_data(**api_args)\n",
    "    print(\"Success!\")"
   ]
  },
  {
   "cell_type": "markdown",
   "metadata": {
    "hidden": true
   },
   "source": [
    "### Deployment testing"
   ]
  },
  {
   "cell_type": "code",
   "execution_count": null,
   "metadata": {
    "ExecuteTime": {
     "end_time": "2020-06-26T18:48:38.178110Z",
     "start_time": "2020-06-26T18:48:34.514080Z"
    },
    "hidden": true
   },
   "outputs": [],
   "source": [
    "# testing the deploy control thread\n",
    "\"\"\" change path in the deploy control thread to save the file to appropriate location\"\"\"\n",
    "import warnings\n",
    "with warnings.catch_warnings():\n",
    "    from alumni_scripts import deploy_control as dc\n",
    "\n",
    "with open('../auths.json', 'r') as fp:\n",
    "    api_args = json.load(fp)\n",
    "with open('../alumni_scripts/meta_data.json', 'r') as fp:\n",
    "    meta_data_ = json.load(fp)\n",
    "obs_space_vars = ['oat', 'oah', 'wbt', 'avg_stpt', 'sat']\n",
    "\n",
    "df = dc.get_real_obs(api_args, meta_data_, obs_space_vars)\n",
    "\n",
    "df"
   ]
  },
  {
   "cell_type": "markdown",
   "metadata": {},
   "source": [
    "## Create Offline Batch Time Series Data Base for Alumni Hall data"
   ]
  },
  {
   "cell_type": "code",
   "execution_count": 1,
   "metadata": {
    "ExecuteTime": {
     "end_time": "2020-08-11T16:59:25.779805Z",
     "start_time": "2020-08-11T16:59:24.798309Z"
    }
   },
   "outputs": [],
   "source": [
    "# including the project directory to the notebook level\n",
    "import os\n",
    "import sys\n",
    "module_path = os.path.abspath(os.path.join('..'))\n",
    "if module_path not in sys.path:\n",
    "    sys.path.append(module_path)\n",
    "    \n",
    "# import modules\n",
    "from alumni_scripts import data_process as dp\n",
    "from alumni_scripts import alumni_data_utils as a_utils\n",
    "import json\n",
    "import numpy as np\n",
    "import pandas as pd\n",
    "from influxdb import DataFrameClient\n",
    "from collections import OrderedDict\n",
    "from CoolProp.HumidAirProp import HAPropsSI"
   ]
  },
  {
   "cell_type": "markdown",
   "metadata": {},
   "source": [
    "### Collate the data from csv files"
   ]
  },
  {
   "cell_type": "code",
   "execution_count": null,
   "metadata": {
    "ExecuteTime": {
     "end_time": "2020-06-29T15:29:51.933760Z",
     "start_time": "2020-06-29T15:29:51.718809Z"
    }
   },
   "outputs": [],
   "source": [
    "# collate batch of data\n",
    "file_names = ['jul2dec2018', 'jan2jun2019', 'jul2dec2019', 'jan2jun2020']\n",
    "dflist = []\n",
    "for fname in file_names:\n",
    "    df_ = pd.read_csv('../data/raw_data/alumni_data_{}.csv'.format(fname))\n",
    "    df_['time'] = pd.to_datetime(df_['time'])\n",
    "    df_.set_index(keys='time',inplace=True, drop = True)\n",
    "    dflist.append(df_)\n",
    "df = a_utils.mergerows(dflist)"
   ]
  },
  {
   "cell_type": "markdown",
   "metadata": {},
   "source": [
    "### Calculate Wet Bulb Temperature and add it to the dataframe"
   ]
  },
  {
   "cell_type": "code",
   "execution_count": null,
   "metadata": {
    "ExecuteTime": {
     "end_time": "2020-06-29T15:30:03.167935Z",
     "start_time": "2020-06-29T15:30:03.158776Z"
    }
   },
   "outputs": [],
   "source": [
    "rh = df['WeatherDataProfile humidity']/100\n",
    "rh = rh.to_numpy()\n",
    "t_db = 5*(df['AHU_1 outdoorAirTemp']-32)/9 + 273.15\n",
    "t_db = t_db.to_numpy()"
   ]
  },
  {
   "cell_type": "code",
   "execution_count": null,
   "metadata": {
    "ExecuteTime": {
     "end_time": "2020-06-21T17:16:22.674946Z",
     "start_time": "2020-06-21T17:00:06.936402Z"
    }
   },
   "outputs": [],
   "source": [
    "T = HAPropsSI('T_wb','R',rh,'T',t_db,'P',101325)\n",
    "t_f = 9*(T-273.15)/5 + 32\n",
    "df['wbt'] = t_f"
   ]
  },
  {
   "cell_type": "markdown",
   "metadata": {},
   "source": [
    "### Create meta data"
   ]
  },
  {
   "cell_type": "code",
   "execution_count": null,
   "metadata": {
    "ExecuteTime": {
     "end_time": "2020-06-21T17:19:07.937617Z",
     "start_time": "2020-06-21T17:19:07.687429Z"
    },
    "run_control": {
     "marked": false
    }
   },
   "outputs": [],
   "source": [
    "# Create column_aliases\n",
    "d1 = {'column_names': list(df.columns)}\n",
    "column_aliases = [\n",
    "    'pchwst', 'vrf50', 'oat', 'sat', 'sat_stpt', 'oah', 'vrf67', 'pchw_flow',\n",
    "    'hwe', 'vrf1', 'vrf30', 'vrf34', 'vrf74', 'cwe', 'hws_st_stpt', 'vrf60',\n",
    "    'vrf63', 'hws_st', 'hws_vlv1', 'vrf77', 'vrf64', 'vrf10', 'ee', 'hws_rt',\n",
    "    'vrf100', 'vrf40', 'hws_flow', 'vrf108', 'vrf20', 'wbt'\n",
    "]\n",
    "\n",
    "d1['column_agg_type'] = {\n",
    "    \"pchwst\": \"mean\",\"vrf50\": \"mean\",\"oat\": \"mean\",\"sat\": \"mean\",\"sat_stpt\": \"mean\",\"oah\": \"mean\",\n",
    "    \"vrf67\": \"mean\",\"pchw_flow\": \"sum\",\"hwe\": \"sum\",\"vrf1\": \"mean\",\"vrf30\": \"mean\",\"vrf34\": \"mean\",\n",
    "    \"vrf74\": \"mean\",\"cwe\": \"sum\",\"hws_st_stpt\": \"mean\",\"vrf60\": \"mean\",\"vrf63\": \"mean\",\"hws_st\": \"mean\",\n",
    "    \"hws_vlv1\": \"sum\",\"vrf77\": \"mean\", \"vrf64\": \"mean\",\"vrf10\": \"mean\",\"ee\": \"sum\",\"hws_rt\": \"mean\",\n",
    "    \"vrf100\": \"mean\",\"vrf40\": \"mean\",\"hws_flow\": \"sum\",\"vrf108\": \"mean\",\"vrf20\": \"mean\", 'wbt' : \"mean\"\n",
    "}\n",
    "\n",
    "# Create column alias\n",
    "d2 = OrderedDict()\n",
    "for i, j in zip(df.columns, column_aliases):\n",
    "    d2.update({j: i})\n",
    "d1['column_aliases'] = d2\n",
    "\n",
    "df.columns = column_aliases\n",
    "\n",
    "# Create column stats\n",
    "stats = {}\n",
    "d3 = OrderedDict(df.describe())\n",
    "for key, alias in zip(d3.keys(), column_aliases):\n",
    "    stats[alias] = dict(d3[key])\n",
    "d1['column_stats'] = stats"
   ]
  },
  {
   "cell_type": "markdown",
   "metadata": {},
   "source": [
    "### Create half hour stats for the data"
   ]
  },
  {
   "cell_type": "code",
   "execution_count": null,
   "metadata": {
    "ExecuteTime": {
     "end_time": "2020-06-21T17:19:11.453611Z",
     "start_time": "2020-06-21T17:19:11.167137Z"
    }
   },
   "outputs": [],
   "source": [
    "# aggregate data\n",
    "rolling_sum_target, rolling_mean_target = [], []\n",
    "for key, value in d1['column_agg_type'].items():\n",
    "    if value == 'sum': rolling_sum_target.append(key)\n",
    "    else: rolling_mean_target.append(key)\n",
    "\n",
    "df_agg = df.copy()\n",
    "        \n",
    "df_agg[rolling_sum_target] =  a_utils.window_sum(df_agg, window_size=6, column_names=rolling_sum_target)\n",
    "df_agg[rolling_mean_target] =  a_utils.window_mean(df_agg, window_size=6, column_names=rolling_mean_target)\n",
    "df_agg = a_utils.dropNaNrows(df_agg)\n",
    "# sample at half hour\n",
    "df_agg = a_utils.sample_timeseries_df(df_agg, period=6)\n",
    "\n",
    "# Create column stats for half hour data\n",
    "stats_halfhour = {}\n",
    "d4 = OrderedDict(df_agg.describe())\n",
    "for key, alias in zip(d4.keys(),column_aliases):\n",
    "    stats_halfhour[alias] = dict(d4[key])\n",
    "d1['column_stats_half_hour'] = stats_halfhour"
   ]
  },
  {
   "cell_type": "code",
   "execution_count": null,
   "metadata": {
    "ExecuteTime": {
     "end_time": "2020-06-21T17:19:13.689909Z",
     "start_time": "2020-06-21T17:19:13.680430Z"
    }
   },
   "outputs": [],
   "source": [
    "# Create meta data json file\n",
    "with open('../alumni_scripts/meta_data.json', 'w') as fp:\n",
    "    json.dump(d1, fp, indent=4)"
   ]
  },
  {
   "cell_type": "markdown",
   "metadata": {},
   "source": [
    "### Remove outliers"
   ]
  },
  {
   "cell_type": "code",
   "execution_count": null,
   "metadata": {
    "ExecuteTime": {
     "end_time": "2020-06-21T17:19:29.004848Z",
     "start_time": "2020-06-21T17:19:28.836280Z"
    }
   },
   "outputs": [],
   "source": [
    "df_cleaned = dp.offline_batch_data_clean(meta_data_path='../alumni_scripts/meta_data.json', df = df)"
   ]
  },
  {
   "cell_type": "code",
   "execution_count": null,
   "metadata": {
    "ExecuteTime": {
     "end_time": "2020-06-21T17:19:37.939990Z",
     "start_time": "2020-06-21T17:19:37.935222Z"
    }
   },
   "outputs": [],
   "source": [
    "df_cleaned.columns = column_aliases"
   ]
  },
  {
   "cell_type": "markdown",
   "metadata": {},
   "source": [
    "### Push data to a database"
   ]
  },
  {
   "cell_type": "code",
   "execution_count": null,
   "metadata": {
    "ExecuteTime": {
     "end_time": "2020-06-21T17:20:39.849700Z",
     "start_time": "2020-06-21T17:20:29.594431Z"
    }
   },
   "outputs": [],
   "source": [
    "\"\"\"\n",
    "before the next steps launch influxd client at a cli\n",
    "sudo influxd\n",
    "\"\"\"\n",
    "# launch python client for influxdb\n",
    "client = DataFrameClient(host='localhost', port=8086)\n",
    "# create a database inc case it's not there\n",
    "client.create_database('bdx_batch_db')\n",
    "# get list of database\n",
    "client.get_list_database()\n",
    "# switch to the databaase you want\n",
    "client.switch_database('bdx_batch_db')\n",
    "# write \"dataframe\" as \"measurements\"\n",
    "client.write_points(dataframe=df_cleaned,\n",
    "                    measurement='alumni_data_v2',\n",
    "                    tags={\n",
    "                        'data_cleaned': 'True',\n",
    "                        'aggregated': False,\n",
    "                        'time-interval': '5 minutes'\n",
    "                    },\n",
    "                    protocol='line',\n",
    "                    batch_size=5000)\n",
    "# see measurement added to curent db\n",
    "client.get_list_measurements()\n",
    "client.close()"
   ]
  },
  {
   "cell_type": "markdown",
   "metadata": {},
   "source": [
    "### Read data from the database"
   ]
  },
  {
   "cell_type": "code",
   "execution_count": 46,
   "metadata": {
    "ExecuteTime": {
     "end_time": "2020-08-11T17:00:15.121878Z",
     "start_time": "2020-08-11T17:00:15.039498Z"
    }
   },
   "outputs": [],
   "source": [
    "\"\"\"\n",
    "before the next steps launch influxd client at a cli\n",
    "sudo influxd\n",
    "\"\"\"\n",
    "# launch python client for influxdb\n",
    "client = DataFrameClient(host='localhost', port=8086)\n",
    "# switch to the databaase you want\n",
    "client.switch_database('bdx_batch_db')\n",
    "results_obj = client.query(\n",
    "    \"select * from alumni_data_v2 \\\n",
    "    where time >= '2019-05-19 20:30:00' - 40m \\\n",
    "    and time <= '2019-05-19 20:30:00'\", dropna=False\n",
    ")\n",
    "#df2 = results_obj['alumni_data_v2']"
   ]
  },
  {
   "cell_type": "code",
   "execution_count": 54,
   "metadata": {},
   "outputs": [
    {
     "output_type": "execute_result",
     "data": {
      "text/plain": "0"
     },
     "metadata": {},
     "execution_count": 54
    }
   ],
   "source": [
    "len(results_obj.keys())"
   ]
  },
  {
   "cell_type": "code",
   "execution_count": 43,
   "metadata": {},
   "outputs": [
    {
     "output_type": "execute_result",
     "data": {
      "text/plain": "                                 cwe         ee       hwe   hws_flow  \\\n2019-05-19 19:00:00+00:00  31.123106   0.000000  2.874033  11.930119   \n2019-05-19 19:05:00+00:00  34.558876   0.000000  2.796455  11.730373   \n2019-05-19 19:10:00+00:00  38.941563  41.074673  2.761671  12.156872   \n2019-05-19 19:15:00+00:00  46.669380   0.000000  2.879797  12.700500   \n2019-05-19 19:20:00+00:00  45.743481   0.000000  2.867308  12.837112   \n2019-05-19 19:25:00+00:00  41.960579  45.306408  2.873167  12.368154   \n2019-05-19 19:30:00+00:00  40.140804   0.000000  2.753855  13.221007   \n2019-05-19 19:35:00+00:00  38.332973   0.000000  2.836296  13.039200   \n2019-05-20 03:50:00+00:00        NaN        NaN  3.106831  12.993814   \n2019-05-20 03:55:00+00:00  35.478794  40.770035  2.879316  12.738822   \n2019-05-20 04:00:00+00:00  36.385368   0.000000  2.877851  13.113070   \n2019-05-20 04:05:00+00:00  37.043579   0.000000  2.862338  13.126804   \n2019-05-20 04:10:00+00:00  35.416618  40.245522  2.864745  13.074499   \n\n                              hws_rt     hws_st  hws_st_stpt   hws_vlv1  \\\n2019-05-19 19:00:00+00:00  84.635078  90.205688         90.0  32.298267   \n2019-05-19 19:05:00+00:00  84.635078  90.205688         90.0  32.298267   \n2019-05-19 19:10:00+00:00  84.635078  90.205688         90.0  32.298267   \n2019-05-19 19:15:00+00:00  84.327629  89.885979         90.0  32.298267   \n2019-05-19 19:20:00+00:00  84.327629  89.885979         90.0  32.298267   \n2019-05-19 19:25:00+00:00  84.327629  89.549484         90.0  32.298267   \n2019-05-19 19:30:00+00:00  84.327629  89.549484         90.0  32.298267   \n2019-05-19 19:35:00+00:00  84.327629  89.549484         90.0  32.298267   \n2019-05-20 03:50:00+00:00  83.120430  88.371292         90.0  34.294106   \n2019-05-20 03:55:00+00:00  83.120430  88.371292         90.0  34.294106   \n2019-05-20 04:00:00+00:00  83.120430  88.371292         90.0  34.294106   \n2019-05-20 04:05:00+00:00  83.120430  88.371292         90.0  34.294106   \n2019-05-20 04:10:00+00:00  83.120430  88.371292         90.0  34.294106   \n\n                                 oah        oat  ...  vrf34  vrf40  vrf50  \\\n2019-05-19 19:00:00+00:00  48.822079  78.014145  ...   72.0   70.0   71.0   \n2019-05-19 19:05:00+00:00  48.822079  78.014145  ...   72.0   70.0   71.0   \n2019-05-19 19:10:00+00:00  48.929546  78.014145  ...   72.0   70.0   71.0   \n2019-05-19 19:15:00+00:00  49.449940  78.336830  ...   72.0   70.0   71.0   \n2019-05-19 19:20:00+00:00  49.600739  78.336830  ...   72.0   70.0   71.0   \n2019-05-19 19:25:00+00:00  49.600739  78.336830  ...   72.0   70.0   71.0   \n2019-05-19 19:30:00+00:00  49.707352  78.336830  ...   72.0   70.0   71.0   \n2019-05-19 19:35:00+00:00  49.707352  78.336830  ...   72.0   70.0   71.0   \n2019-05-20 03:50:00+00:00  76.390053  70.962791  ...   72.0   70.0   71.0   \n2019-05-20 03:55:00+00:00  76.390053  70.962791  ...   72.0   70.0   71.0   \n2019-05-20 04:00:00+00:00  76.481697  70.962791  ...   72.0   70.0   71.0   \n2019-05-20 04:05:00+00:00  76.481697  70.665672  ...   72.0   70.0   71.0   \n2019-05-20 04:10:00+00:00  76.364319  70.665672  ...   72.0   70.0   71.0   \n\n                           vrf60  vrf63  vrf64  vrf67  vrf74  vrf77        wbt  \n2019-05-19 19:00:00+00:00   72.0   73.0   71.0   70.0   71.0   76.0  64.671147  \n2019-05-19 19:05:00+00:00   72.0   73.0   71.0   70.0   71.0   76.0  64.671147  \n2019-05-19 19:10:00+00:00   72.0   73.0   71.0   70.0   71.0   76.0  64.703449  \n2019-05-19 19:15:00+00:00   72.0   73.0   71.0   70.0   71.0   76.0  65.124051  \n2019-05-19 19:20:00+00:00   72.0   73.0   71.0   70.0   71.0   76.0  65.169432  \n2019-05-19 19:25:00+00:00   72.0   73.0   71.0   70.0   71.0   76.0  65.169432  \n2019-05-19 19:30:00+00:00   72.0   73.0   71.0   70.0   71.0   76.0  65.201490  \n2019-05-19 19:35:00+00:00   72.0   73.0   71.0   70.0   71.0   76.0  65.201490  \n2019-05-20 03:50:00+00:00   72.0   73.0   71.0   70.0   71.0   76.0  65.772711  \n2019-05-20 03:55:00+00:00   72.0   73.0   71.0   70.0   71.0   76.0  65.772711  \n2019-05-20 04:00:00+00:00   72.0   73.0   71.0   70.0   71.0   76.0  65.793976  \n2019-05-20 04:05:00+00:00   72.0   73.0   71.0   70.0   71.0   76.0  65.518254  \n2019-05-20 04:10:00+00:00   72.0   73.0   71.0   70.0   71.0   76.0  65.491137  \n\n[13 rows x 30 columns]",
      "text/html": "<div>\n<style scoped>\n    .dataframe tbody tr th:only-of-type {\n        vertical-align: middle;\n    }\n\n    .dataframe tbody tr th {\n        vertical-align: top;\n    }\n\n    .dataframe thead th {\n        text-align: right;\n    }\n</style>\n<table border=\"1\" class=\"dataframe\">\n  <thead>\n    <tr style=\"text-align: right;\">\n      <th></th>\n      <th>cwe</th>\n      <th>ee</th>\n      <th>hwe</th>\n      <th>hws_flow</th>\n      <th>hws_rt</th>\n      <th>hws_st</th>\n      <th>hws_st_stpt</th>\n      <th>hws_vlv1</th>\n      <th>oah</th>\n      <th>oat</th>\n      <th>...</th>\n      <th>vrf34</th>\n      <th>vrf40</th>\n      <th>vrf50</th>\n      <th>vrf60</th>\n      <th>vrf63</th>\n      <th>vrf64</th>\n      <th>vrf67</th>\n      <th>vrf74</th>\n      <th>vrf77</th>\n      <th>wbt</th>\n    </tr>\n  </thead>\n  <tbody>\n    <tr>\n      <th>2019-05-19 19:00:00+00:00</th>\n      <td>31.123106</td>\n      <td>0.000000</td>\n      <td>2.874033</td>\n      <td>11.930119</td>\n      <td>84.635078</td>\n      <td>90.205688</td>\n      <td>90.0</td>\n      <td>32.298267</td>\n      <td>48.822079</td>\n      <td>78.014145</td>\n      <td>...</td>\n      <td>72.0</td>\n      <td>70.0</td>\n      <td>71.0</td>\n      <td>72.0</td>\n      <td>73.0</td>\n      <td>71.0</td>\n      <td>70.0</td>\n      <td>71.0</td>\n      <td>76.0</td>\n      <td>64.671147</td>\n    </tr>\n    <tr>\n      <th>2019-05-19 19:05:00+00:00</th>\n      <td>34.558876</td>\n      <td>0.000000</td>\n      <td>2.796455</td>\n      <td>11.730373</td>\n      <td>84.635078</td>\n      <td>90.205688</td>\n      <td>90.0</td>\n      <td>32.298267</td>\n      <td>48.822079</td>\n      <td>78.014145</td>\n      <td>...</td>\n      <td>72.0</td>\n      <td>70.0</td>\n      <td>71.0</td>\n      <td>72.0</td>\n      <td>73.0</td>\n      <td>71.0</td>\n      <td>70.0</td>\n      <td>71.0</td>\n      <td>76.0</td>\n      <td>64.671147</td>\n    </tr>\n    <tr>\n      <th>2019-05-19 19:10:00+00:00</th>\n      <td>38.941563</td>\n      <td>41.074673</td>\n      <td>2.761671</td>\n      <td>12.156872</td>\n      <td>84.635078</td>\n      <td>90.205688</td>\n      <td>90.0</td>\n      <td>32.298267</td>\n      <td>48.929546</td>\n      <td>78.014145</td>\n      <td>...</td>\n      <td>72.0</td>\n      <td>70.0</td>\n      <td>71.0</td>\n      <td>72.0</td>\n      <td>73.0</td>\n      <td>71.0</td>\n      <td>70.0</td>\n      <td>71.0</td>\n      <td>76.0</td>\n      <td>64.703449</td>\n    </tr>\n    <tr>\n      <th>2019-05-19 19:15:00+00:00</th>\n      <td>46.669380</td>\n      <td>0.000000</td>\n      <td>2.879797</td>\n      <td>12.700500</td>\n      <td>84.327629</td>\n      <td>89.885979</td>\n      <td>90.0</td>\n      <td>32.298267</td>\n      <td>49.449940</td>\n      <td>78.336830</td>\n      <td>...</td>\n      <td>72.0</td>\n      <td>70.0</td>\n      <td>71.0</td>\n      <td>72.0</td>\n      <td>73.0</td>\n      <td>71.0</td>\n      <td>70.0</td>\n      <td>71.0</td>\n      <td>76.0</td>\n      <td>65.124051</td>\n    </tr>\n    <tr>\n      <th>2019-05-19 19:20:00+00:00</th>\n      <td>45.743481</td>\n      <td>0.000000</td>\n      <td>2.867308</td>\n      <td>12.837112</td>\n      <td>84.327629</td>\n      <td>89.885979</td>\n      <td>90.0</td>\n      <td>32.298267</td>\n      <td>49.600739</td>\n      <td>78.336830</td>\n      <td>...</td>\n      <td>72.0</td>\n      <td>70.0</td>\n      <td>71.0</td>\n      <td>72.0</td>\n      <td>73.0</td>\n      <td>71.0</td>\n      <td>70.0</td>\n      <td>71.0</td>\n      <td>76.0</td>\n      <td>65.169432</td>\n    </tr>\n    <tr>\n      <th>2019-05-19 19:25:00+00:00</th>\n      <td>41.960579</td>\n      <td>45.306408</td>\n      <td>2.873167</td>\n      <td>12.368154</td>\n      <td>84.327629</td>\n      <td>89.549484</td>\n      <td>90.0</td>\n      <td>32.298267</td>\n      <td>49.600739</td>\n      <td>78.336830</td>\n      <td>...</td>\n      <td>72.0</td>\n      <td>70.0</td>\n      <td>71.0</td>\n      <td>72.0</td>\n      <td>73.0</td>\n      <td>71.0</td>\n      <td>70.0</td>\n      <td>71.0</td>\n      <td>76.0</td>\n      <td>65.169432</td>\n    </tr>\n    <tr>\n      <th>2019-05-19 19:30:00+00:00</th>\n      <td>40.140804</td>\n      <td>0.000000</td>\n      <td>2.753855</td>\n      <td>13.221007</td>\n      <td>84.327629</td>\n      <td>89.549484</td>\n      <td>90.0</td>\n      <td>32.298267</td>\n      <td>49.707352</td>\n      <td>78.336830</td>\n      <td>...</td>\n      <td>72.0</td>\n      <td>70.0</td>\n      <td>71.0</td>\n      <td>72.0</td>\n      <td>73.0</td>\n      <td>71.0</td>\n      <td>70.0</td>\n      <td>71.0</td>\n      <td>76.0</td>\n      <td>65.201490</td>\n    </tr>\n    <tr>\n      <th>2019-05-19 19:35:00+00:00</th>\n      <td>38.332973</td>\n      <td>0.000000</td>\n      <td>2.836296</td>\n      <td>13.039200</td>\n      <td>84.327629</td>\n      <td>89.549484</td>\n      <td>90.0</td>\n      <td>32.298267</td>\n      <td>49.707352</td>\n      <td>78.336830</td>\n      <td>...</td>\n      <td>72.0</td>\n      <td>70.0</td>\n      <td>71.0</td>\n      <td>72.0</td>\n      <td>73.0</td>\n      <td>71.0</td>\n      <td>70.0</td>\n      <td>71.0</td>\n      <td>76.0</td>\n      <td>65.201490</td>\n    </tr>\n    <tr>\n      <th>2019-05-20 03:50:00+00:00</th>\n      <td>NaN</td>\n      <td>NaN</td>\n      <td>3.106831</td>\n      <td>12.993814</td>\n      <td>83.120430</td>\n      <td>88.371292</td>\n      <td>90.0</td>\n      <td>34.294106</td>\n      <td>76.390053</td>\n      <td>70.962791</td>\n      <td>...</td>\n      <td>72.0</td>\n      <td>70.0</td>\n      <td>71.0</td>\n      <td>72.0</td>\n      <td>73.0</td>\n      <td>71.0</td>\n      <td>70.0</td>\n      <td>71.0</td>\n      <td>76.0</td>\n      <td>65.772711</td>\n    </tr>\n    <tr>\n      <th>2019-05-20 03:55:00+00:00</th>\n      <td>35.478794</td>\n      <td>40.770035</td>\n      <td>2.879316</td>\n      <td>12.738822</td>\n      <td>83.120430</td>\n      <td>88.371292</td>\n      <td>90.0</td>\n      <td>34.294106</td>\n      <td>76.390053</td>\n      <td>70.962791</td>\n      <td>...</td>\n      <td>72.0</td>\n      <td>70.0</td>\n      <td>71.0</td>\n      <td>72.0</td>\n      <td>73.0</td>\n      <td>71.0</td>\n      <td>70.0</td>\n      <td>71.0</td>\n      <td>76.0</td>\n      <td>65.772711</td>\n    </tr>\n    <tr>\n      <th>2019-05-20 04:00:00+00:00</th>\n      <td>36.385368</td>\n      <td>0.000000</td>\n      <td>2.877851</td>\n      <td>13.113070</td>\n      <td>83.120430</td>\n      <td>88.371292</td>\n      <td>90.0</td>\n      <td>34.294106</td>\n      <td>76.481697</td>\n      <td>70.962791</td>\n      <td>...</td>\n      <td>72.0</td>\n      <td>70.0</td>\n      <td>71.0</td>\n      <td>72.0</td>\n      <td>73.0</td>\n      <td>71.0</td>\n      <td>70.0</td>\n      <td>71.0</td>\n      <td>76.0</td>\n      <td>65.793976</td>\n    </tr>\n    <tr>\n      <th>2019-05-20 04:05:00+00:00</th>\n      <td>37.043579</td>\n      <td>0.000000</td>\n      <td>2.862338</td>\n      <td>13.126804</td>\n      <td>83.120430</td>\n      <td>88.371292</td>\n      <td>90.0</td>\n      <td>34.294106</td>\n      <td>76.481697</td>\n      <td>70.665672</td>\n      <td>...</td>\n      <td>72.0</td>\n      <td>70.0</td>\n      <td>71.0</td>\n      <td>72.0</td>\n      <td>73.0</td>\n      <td>71.0</td>\n      <td>70.0</td>\n      <td>71.0</td>\n      <td>76.0</td>\n      <td>65.518254</td>\n    </tr>\n    <tr>\n      <th>2019-05-20 04:10:00+00:00</th>\n      <td>35.416618</td>\n      <td>40.245522</td>\n      <td>2.864745</td>\n      <td>13.074499</td>\n      <td>83.120430</td>\n      <td>88.371292</td>\n      <td>90.0</td>\n      <td>34.294106</td>\n      <td>76.364319</td>\n      <td>70.665672</td>\n      <td>...</td>\n      <td>72.0</td>\n      <td>70.0</td>\n      <td>71.0</td>\n      <td>72.0</td>\n      <td>73.0</td>\n      <td>71.0</td>\n      <td>70.0</td>\n      <td>71.0</td>\n      <td>76.0</td>\n      <td>65.491137</td>\n    </tr>\n  </tbody>\n</table>\n<p>13 rows × 30 columns</p>\n</div>"
     },
     "metadata": {},
     "execution_count": 43
    }
   ],
   "source": [
    "df2.drop(columns = ['data_cleaned', 'aggregated', 'time-interval'], inplace=True)\n",
    "df2"
   ]
  },
  {
   "cell_type": "code",
   "execution_count": 11,
   "metadata": {
    "ExecuteTime": {
     "end_time": "2020-08-11T17:01:11.132132Z",
     "start_time": "2020-08-11T17:01:11.124424Z"
    }
   },
   "outputs": [],
   "source": [
    "df_ = pd.read_pickle('../data/trend_data/backup_tsdb.pkl')"
   ]
  },
  {
   "cell_type": "code",
   "execution_count": 12,
   "metadata": {
    "ExecuteTime": {
     "end_time": "2020-08-11T17:01:13.027821Z",
     "start_time": "2020-08-11T17:01:12.996768Z"
    }
   },
   "outputs": [
    {
     "output_type": "execute_result",
     "data": {
      "text/plain": "                                 cwe         ee       hwe   hws_flow  \\\n2019-05-19 18:50:00+00:00  34.933201   0.000000  2.826460  12.044271   \n2019-05-19 18:55:00+00:00  29.616238  39.087578  2.720156  11.823587   \n2019-05-19 19:00:00+00:00  31.123106   0.000000  2.874033  11.930119   \n2019-05-19 19:05:00+00:00  34.558876   0.000000  2.796455  11.730373   \n2019-05-19 19:10:00+00:00  38.941563  41.074673  2.761671  12.156872   \n2019-05-19 19:15:00+00:00  46.669380   0.000000  2.879797  12.700500   \n2019-05-19 19:20:00+00:00  45.743481   0.000000  2.867308  12.837112   \n2019-05-19 19:25:00+00:00  41.960579  45.306408  2.873167  12.368154   \n\n                              hws_rt     hws_st  hws_st_stpt   hws_vlv1  \\\n2019-05-19 18:50:00+00:00  85.232567  90.835564         90.0  32.298267   \n2019-05-19 18:55:00+00:00  84.933617  90.515343         90.0  32.298267   \n2019-05-19 19:00:00+00:00  84.635078  90.205688         90.0  32.298267   \n2019-05-19 19:05:00+00:00  84.635078  90.205688         90.0  32.298267   \n2019-05-19 19:10:00+00:00  84.635078  90.205688         90.0  32.298267   \n2019-05-19 19:15:00+00:00  84.327629  89.885979         90.0  32.298267   \n2019-05-19 19:20:00+00:00  84.327629  89.885979         90.0  32.298267   \n2019-05-19 19:25:00+00:00  84.327629  89.549484         90.0  32.298267   \n\n                                 oah        oat  ...  vrf34  vrf40  vrf50  \\\n2019-05-19 18:50:00+00:00  48.783524  78.014145  ...   72.0   70.0   71.0   \n2019-05-19 18:55:00+00:00  48.822079  78.014145  ...   72.0   70.0   71.0   \n2019-05-19 19:00:00+00:00  48.822079  78.014145  ...   72.0   70.0   71.0   \n2019-05-19 19:05:00+00:00  48.822079  78.014145  ...   72.0   70.0   71.0   \n2019-05-19 19:10:00+00:00  48.929546  78.014145  ...   72.0   70.0   71.0   \n2019-05-19 19:15:00+00:00  49.449940  78.336830  ...   72.0   70.0   71.0   \n2019-05-19 19:20:00+00:00  49.600739  78.336830  ...   72.0   70.0   71.0   \n2019-05-19 19:25:00+00:00  49.600739  78.336830  ...   72.0   70.0   71.0   \n\n                           vrf60  vrf63  vrf64  vrf67  vrf74  vrf77        wbt  \n2019-05-19 18:50:00+00:00   72.0   73.0   71.0   70.0   71.0   76.0  64.659553  \n2019-05-19 18:55:00+00:00   72.0   73.0   71.0   70.0   71.0   76.0  64.671147  \n2019-05-19 19:00:00+00:00   72.0   73.0   71.0   70.0   71.0   76.0  64.671147  \n2019-05-19 19:05:00+00:00   72.0   73.0   71.0   70.0   71.0   76.0  64.671147  \n2019-05-19 19:10:00+00:00   72.0   73.0   71.0   70.0   71.0   76.0  64.703449  \n2019-05-19 19:15:00+00:00   72.0   73.0   71.0   70.0   71.0   76.0  65.124051  \n2019-05-19 19:20:00+00:00   72.0   73.0   71.0   70.0   71.0   76.0  65.169432  \n2019-05-19 19:25:00+00:00   72.0   73.0   71.0   70.0   71.0   76.0  65.169432  \n\n[8 rows x 30 columns]",
      "text/html": "<div>\n<style scoped>\n    .dataframe tbody tr th:only-of-type {\n        vertical-align: middle;\n    }\n\n    .dataframe tbody tr th {\n        vertical-align: top;\n    }\n\n    .dataframe thead th {\n        text-align: right;\n    }\n</style>\n<table border=\"1\" class=\"dataframe\">\n  <thead>\n    <tr style=\"text-align: right;\">\n      <th></th>\n      <th>cwe</th>\n      <th>ee</th>\n      <th>hwe</th>\n      <th>hws_flow</th>\n      <th>hws_rt</th>\n      <th>hws_st</th>\n      <th>hws_st_stpt</th>\n      <th>hws_vlv1</th>\n      <th>oah</th>\n      <th>oat</th>\n      <th>...</th>\n      <th>vrf34</th>\n      <th>vrf40</th>\n      <th>vrf50</th>\n      <th>vrf60</th>\n      <th>vrf63</th>\n      <th>vrf64</th>\n      <th>vrf67</th>\n      <th>vrf74</th>\n      <th>vrf77</th>\n      <th>wbt</th>\n    </tr>\n  </thead>\n  <tbody>\n    <tr>\n      <th>2019-05-19 18:50:00+00:00</th>\n      <td>34.933201</td>\n      <td>0.000000</td>\n      <td>2.826460</td>\n      <td>12.044271</td>\n      <td>85.232567</td>\n      <td>90.835564</td>\n      <td>90.0</td>\n      <td>32.298267</td>\n      <td>48.783524</td>\n      <td>78.014145</td>\n      <td>...</td>\n      <td>72.0</td>\n      <td>70.0</td>\n      <td>71.0</td>\n      <td>72.0</td>\n      <td>73.0</td>\n      <td>71.0</td>\n      <td>70.0</td>\n      <td>71.0</td>\n      <td>76.0</td>\n      <td>64.659553</td>\n    </tr>\n    <tr>\n      <th>2019-05-19 18:55:00+00:00</th>\n      <td>29.616238</td>\n      <td>39.087578</td>\n      <td>2.720156</td>\n      <td>11.823587</td>\n      <td>84.933617</td>\n      <td>90.515343</td>\n      <td>90.0</td>\n      <td>32.298267</td>\n      <td>48.822079</td>\n      <td>78.014145</td>\n      <td>...</td>\n      <td>72.0</td>\n      <td>70.0</td>\n      <td>71.0</td>\n      <td>72.0</td>\n      <td>73.0</td>\n      <td>71.0</td>\n      <td>70.0</td>\n      <td>71.0</td>\n      <td>76.0</td>\n      <td>64.671147</td>\n    </tr>\n    <tr>\n      <th>2019-05-19 19:00:00+00:00</th>\n      <td>31.123106</td>\n      <td>0.000000</td>\n      <td>2.874033</td>\n      <td>11.930119</td>\n      <td>84.635078</td>\n      <td>90.205688</td>\n      <td>90.0</td>\n      <td>32.298267</td>\n      <td>48.822079</td>\n      <td>78.014145</td>\n      <td>...</td>\n      <td>72.0</td>\n      <td>70.0</td>\n      <td>71.0</td>\n      <td>72.0</td>\n      <td>73.0</td>\n      <td>71.0</td>\n      <td>70.0</td>\n      <td>71.0</td>\n      <td>76.0</td>\n      <td>64.671147</td>\n    </tr>\n    <tr>\n      <th>2019-05-19 19:05:00+00:00</th>\n      <td>34.558876</td>\n      <td>0.000000</td>\n      <td>2.796455</td>\n      <td>11.730373</td>\n      <td>84.635078</td>\n      <td>90.205688</td>\n      <td>90.0</td>\n      <td>32.298267</td>\n      <td>48.822079</td>\n      <td>78.014145</td>\n      <td>...</td>\n      <td>72.0</td>\n      <td>70.0</td>\n      <td>71.0</td>\n      <td>72.0</td>\n      <td>73.0</td>\n      <td>71.0</td>\n      <td>70.0</td>\n      <td>71.0</td>\n      <td>76.0</td>\n      <td>64.671147</td>\n    </tr>\n    <tr>\n      <th>2019-05-19 19:10:00+00:00</th>\n      <td>38.941563</td>\n      <td>41.074673</td>\n      <td>2.761671</td>\n      <td>12.156872</td>\n      <td>84.635078</td>\n      <td>90.205688</td>\n      <td>90.0</td>\n      <td>32.298267</td>\n      <td>48.929546</td>\n      <td>78.014145</td>\n      <td>...</td>\n      <td>72.0</td>\n      <td>70.0</td>\n      <td>71.0</td>\n      <td>72.0</td>\n      <td>73.0</td>\n      <td>71.0</td>\n      <td>70.0</td>\n      <td>71.0</td>\n      <td>76.0</td>\n      <td>64.703449</td>\n    </tr>\n    <tr>\n      <th>2019-05-19 19:15:00+00:00</th>\n      <td>46.669380</td>\n      <td>0.000000</td>\n      <td>2.879797</td>\n      <td>12.700500</td>\n      <td>84.327629</td>\n      <td>89.885979</td>\n      <td>90.0</td>\n      <td>32.298267</td>\n      <td>49.449940</td>\n      <td>78.336830</td>\n      <td>...</td>\n      <td>72.0</td>\n      <td>70.0</td>\n      <td>71.0</td>\n      <td>72.0</td>\n      <td>73.0</td>\n      <td>71.0</td>\n      <td>70.0</td>\n      <td>71.0</td>\n      <td>76.0</td>\n      <td>65.124051</td>\n    </tr>\n    <tr>\n      <th>2019-05-19 19:20:00+00:00</th>\n      <td>45.743481</td>\n      <td>0.000000</td>\n      <td>2.867308</td>\n      <td>12.837112</td>\n      <td>84.327629</td>\n      <td>89.885979</td>\n      <td>90.0</td>\n      <td>32.298267</td>\n      <td>49.600739</td>\n      <td>78.336830</td>\n      <td>...</td>\n      <td>72.0</td>\n      <td>70.0</td>\n      <td>71.0</td>\n      <td>72.0</td>\n      <td>73.0</td>\n      <td>71.0</td>\n      <td>70.0</td>\n      <td>71.0</td>\n      <td>76.0</td>\n      <td>65.169432</td>\n    </tr>\n    <tr>\n      <th>2019-05-19 19:25:00+00:00</th>\n      <td>41.960579</td>\n      <td>45.306408</td>\n      <td>2.873167</td>\n      <td>12.368154</td>\n      <td>84.327629</td>\n      <td>89.549484</td>\n      <td>90.0</td>\n      <td>32.298267</td>\n      <td>49.600739</td>\n      <td>78.336830</td>\n      <td>...</td>\n      <td>72.0</td>\n      <td>70.0</td>\n      <td>71.0</td>\n      <td>72.0</td>\n      <td>73.0</td>\n      <td>71.0</td>\n      <td>70.0</td>\n      <td>71.0</td>\n      <td>76.0</td>\n      <td>65.169432</td>\n    </tr>\n  </tbody>\n</table>\n<p>8 rows × 30 columns</p>\n</div>"
     },
     "metadata": {},
     "execution_count": 12
    }
   ],
   "source": [
    "df_"
   ]
  },
  {
   "cell_type": "code",
   "execution_count": 13,
   "metadata": {},
   "outputs": [
    {
     "output_type": "execute_result",
     "data": {
      "text/plain": "False"
     },
     "metadata": {},
     "execution_count": 13
    }
   ],
   "source": [
    "(df_.empty) | (df_.isnull().any().any()) | (df_.shape[0]<6)"
   ]
  },
  {
   "cell_type": "code",
   "execution_count": 9,
   "metadata": {},
   "outputs": [
    {
     "output_type": "execute_result",
     "data": {
      "text/plain": "False"
     },
     "metadata": {},
     "execution_count": 9
    }
   ],
   "source": []
  },
  {
   "cell_type": "markdown",
   "metadata": {},
   "source": [
    "## Read the data from the data base"
   ]
  },
  {
   "cell_type": "code",
   "execution_count": 1,
   "metadata": {
    "ExecuteTime": {
     "end_time": "2020-08-08T19:12:48.049676Z",
     "start_time": "2020-08-08T19:12:46.986579Z"
    }
   },
   "outputs": [],
   "source": [
    "# including the project directory to the notebook level\n",
    "import os\n",
    "import sys\n",
    "module_path = os.path.abspath(os.path.join('..'))\n",
    "if module_path not in sys.path:\n",
    "    sys.path.append(module_path)\n",
    "    \n",
    "# import modules\n",
    "from alumni_scripts import data_process as dp\n",
    "from alumni_scripts import alumni_data_utils as utils\n",
    "import json\n",
    "import pandas as pd\n",
    "from influxdb import DataFrameClient"
   ]
  },
  {
   "cell_type": "code",
   "execution_count": 2,
   "metadata": {
    "ExecuteTime": {
     "end_time": "2020-08-08T19:13:25.287834Z",
     "start_time": "2020-08-08T19:13:23.917315Z"
    }
   },
   "outputs": [],
   "source": [
    "\"\"\"\n",
    "before the next steps launch influxd client at a cli\n",
    "sudo influxd\n",
    "\"\"\"\n",
    "# launch python client for influxdb\n",
    "client = DataFrameClient(host='localhost', port=8086)\n",
    "# switch to the databaase you want\n",
    "client.switch_database('bdx_batch_db')\n",
    "results_obj = client.query(\n",
    "    \"select * from alumni_data_v2\\\n",
    "    where time >= '2018-08-07 00:00:00' \\\n",
    "    and time < '2019-02-07 00:00:00'\" \n",
    ")\n",
    "df2 = results_obj['alumni_data_v2']\n",
    "df2.drop(columns=['aggregated','data_cleaned','time-interval'], inplace=True)"
   ]
  },
  {
   "cell_type": "markdown",
   "metadata": {
    "heading_collapsed": true
   },
   "source": [
    "## Create meta_data : Demo"
   ]
  },
  {
   "cell_type": "code",
   "execution_count": null,
   "metadata": {
    "ExecuteTime": {
     "end_time": "2020-06-21T16:09:33.573019Z",
     "start_time": "2020-06-21T16:09:33.260632Z"
    },
    "hidden": true
   },
   "outputs": [],
   "source": [
    "# including the project directory to the notebook level\n",
    "import os\n",
    "import sys\n",
    "module_path = os.path.abspath(os.path.join('..'))\n",
    "if module_path not in sys.path:\n",
    "    sys.path.append(module_path)\n",
    "    \n",
    "# import modules\n",
    "import pandas as pd\n",
    "import json\n",
    "import numpy as np"
   ]
  },
  {
   "cell_type": "markdown",
   "metadata": {
    "hidden": true
   },
   "source": [
    "### Create column_aliases"
   ]
  },
  {
   "cell_type": "code",
   "execution_count": null,
   "metadata": {
    "hidden": true
   },
   "outputs": [],
   "source": [
    "df = pd.read_csv('../data/raw_data/alumni_data_jul2dec2018.csv', index_col='time')\n",
    "\n",
    "d1 = {'column_names': list(df.columns)}\n",
    "column_aliases = [\n",
    "    'pchwst', 'vrf50', 'oat', 'sat', 'sat_stpt', 'oah', 'vrf67', 'pchw_flow',\n",
    "    'hwe', 'vrf1', 'vrf30', 'vrf34', 'vrf74', 'cwe', 'hws_st_stpt', 'vrf60',\n",
    "    'vrf63', 'hws_st', 'hws_vlv1', 'vrf77', 'vrf64', 'vrf10', 'ee', 'hws_rt',\n",
    "    'vrf100', 'vrf40', 'hws_flow', 'vrf108', 'vrf20'\n",
    "]\n",
    "\n",
    "d2 = {}\n",
    "for i, j in zip(df.columns, column_aliases):\n",
    "    d2.update({j:i})\n",
    "d1['column_aliases'] = d2"
   ]
  },
  {
   "cell_type": "markdown",
   "metadata": {
    "hidden": true
   },
   "source": [
    "### Create column stats"
   ]
  },
  {
   "cell_type": "code",
   "execution_count": null,
   "metadata": {
    "hidden": true
   },
   "outputs": [],
   "source": [
    "stats = {}\n",
    "d3 = dict(df.describe())\n",
    "for key in d3.keys():\n",
    "    stats[key] = dict(d3[key])\n",
    "d1['column_stats'] = stats"
   ]
  },
  {
   "cell_type": "markdown",
   "metadata": {
    "hidden": true
   },
   "source": [
    "### Dump meta data"
   ]
  },
  {
   "cell_type": "code",
   "execution_count": null,
   "metadata": {
    "hidden": true,
    "scrolled": false
   },
   "outputs": [],
   "source": [
    "with open('../alumni_scripts/meta_data.json', 'w') as fp:\n",
    "    json.dump(d1, fp, indent=4)"
   ]
  },
  {
   "cell_type": "markdown",
   "metadata": {
    "hidden": true
   },
   "source": [
    "### Read meta data"
   ]
  },
  {
   "cell_type": "code",
   "execution_count": null,
   "metadata": {
    "hidden": true
   },
   "outputs": [],
   "source": [
    "with open('../alumni_scripts/meta_data.json', 'r') as fp:\n",
    "        meta_data_ = json.load(fp)\n",
    "meta_data = meta_data_.copy()\n",
    "for key, value in meta_data_['column_stats'].items():\n",
    "    if value['std'] == 0:\n",
    "        meta_data['column_stats'][key]['std'] = 0.0001  # add small std for constant values\n",
    "stats = pd.DataFrame(meta_data['column_stats'])"
   ]
  },
  {
   "cell_type": "markdown",
   "metadata": {
    "heading_collapsed": true
   },
   "source": [
    "## Plot data before and after cleaning: Demo"
   ]
  },
  {
   "cell_type": "code",
   "execution_count": null,
   "metadata": {
    "ExecuteTime": {
     "end_time": "2020-06-27T21:24:58.464354Z",
     "start_time": "2020-06-27T21:24:58.457319Z"
    },
    "hidden": true
   },
   "outputs": [],
   "source": [
    "# including the project directory to the notebook level\n",
    "import os\n",
    "import sys\n",
    "module_path = os.path.abspath(os.path.join('..'))\n",
    "if module_path not in sys.path:\n",
    "    sys.path.append(module_path)\n",
    "    \n",
    "# import modules\n",
    "from alumni_scripts import data_process as dp\n",
    "from alumni_scripts import alumni_data_utils as a_utils\n",
    "import json\n",
    "import pandas as pd\n",
    "\n",
    "from collections import OrderedDict\n",
    "from CoolProp.HumidAirProp import HAPropsSI"
   ]
  },
  {
   "cell_type": "code",
   "execution_count": null,
   "metadata": {
    "ExecuteTime": {
     "end_time": "2020-06-27T21:25:00.973908Z",
     "start_time": "2020-06-27T21:25:00.213527Z"
    },
    "hidden": true
   },
   "outputs": [],
   "source": [
    "# collate batch of data\n",
    "file_names = ['jul2dec2018', 'jan2jun2019', 'jul2dec2019', 'jan2jun2020']\n",
    "dflist = []\n",
    "for fname in file_names:\n",
    "    df_ = pd.read_csv('../data/raw_data/alumni_data_{}.csv'.format(fname))\n",
    "    df_['time'] = pd.to_datetime(df_['time'])\n",
    "    df_.set_index(keys='time',inplace=True, drop = True)\n",
    "    dflist.append(df_)\n",
    "df = a_utils.mergerows(dflist)"
   ]
  },
  {
   "cell_type": "code",
   "execution_count": null,
   "metadata": {
    "ExecuteTime": {
     "end_time": "2020-06-27T21:25:07.126472Z",
     "start_time": "2020-06-27T21:25:07.115986Z"
    },
    "hidden": true
   },
   "outputs": [],
   "source": [
    "rh = df['WeatherDataProfile humidity']/100\n",
    "rh = rh.to_numpy()\n",
    "t_db = 5*(df['AHU_1 outdoorAirTemp']-32)/9 + 273.15\n",
    "t_db = t_db.to_numpy()"
   ]
  },
  {
   "cell_type": "code",
   "execution_count": null,
   "metadata": {
    "ExecuteTime": {
     "end_time": "2020-06-27T21:41:31.154129Z",
     "start_time": "2020-06-27T21:25:12.798214Z"
    },
    "hidden": true
   },
   "outputs": [],
   "source": [
    "T = HAPropsSI('T_wb','R',rh,'T',t_db,'P',101325)\n",
    "t_f = 9*(T-273.15)/5 + 32\n",
    "df['wbt'] = t_f"
   ]
  },
  {
   "cell_type": "code",
   "execution_count": null,
   "metadata": {
    "ExecuteTime": {
     "end_time": "2020-06-27T21:41:39.084300Z",
     "start_time": "2020-06-27T21:41:39.078568Z"
    },
    "hidden": true
   },
   "outputs": [],
   "source": [
    "column_aliases = [\n",
    "    'pchwst', 'vrf50', 'oat', 'sat', 'sat_stpt', 'oah', 'vrf67', 'pchw_flow',\n",
    "    'hwe', 'vrf1', 'vrf30', 'vrf34', 'vrf74', 'cwe', 'hws_st_stpt', 'vrf60',\n",
    "    'vrf63', 'hws_st', 'hws_vlv1', 'vrf77', 'vrf64', 'vrf10', 'ee', 'hws_rt',\n",
    "    'vrf100', 'vrf40', 'hws_flow', 'vrf108', 'vrf20', 'wbt'\n",
    "]\n"
   ]
  },
  {
   "cell_type": "code",
   "execution_count": null,
   "metadata": {
    "ExecuteTime": {
     "end_time": "2020-06-27T21:42:02.128280Z",
     "start_time": "2020-06-27T21:42:02.123146Z"
    },
    "hidden": true
   },
   "outputs": [],
   "source": [
    "df.columns = column_aliases"
   ]
  },
  {
   "cell_type": "code",
   "execution_count": null,
   "metadata": {
    "ExecuteTime": {
     "end_time": "2020-06-27T21:45:00.901390Z",
     "start_time": "2020-06-27T21:45:00.708715Z"
    },
    "hidden": true
   },
   "outputs": [],
   "source": [
    "with open('../alumni_scripts/meta_data.json', 'r') as fp:\n",
    "        meta_data_ = json.load(fp)\n",
    "df_cleaned1 = dp.offline_batch_data_clean(meta_data_=meta_data_, df = df)"
   ]
  },
  {
   "cell_type": "code",
   "execution_count": null,
   "metadata": {
    "ExecuteTime": {
     "end_time": "2020-06-27T22:07:24.569559Z",
     "start_time": "2020-06-27T22:07:24.337523Z"
    },
    "hidden": true,
    "scrolled": false
   },
   "outputs": [],
   "source": [
    "stats = {}\n",
    "d2 = dict(df_cleaned1.describe())\n",
    "for key in d2.keys():\n",
    "    stats[key] = dict(d2[key])\n",
    "d1 ={'column_stats' : stats}"
   ]
  },
  {
   "cell_type": "code",
   "execution_count": null,
   "metadata": {
    "ExecuteTime": {
     "end_time": "2020-06-27T22:07:28.273294Z",
     "start_time": "2020-06-27T22:07:27.996903Z"
    },
    "hidden": true
   },
   "outputs": [],
   "source": [
    "d3 = {'column_agg_type':\n",
    "    {\"pchwst\": \"mean\",\"vrf50\": \"mean\",\"oat\": \"mean\",\"sat\": \"mean\",\"sat_stpt\": \"mean\",\"oah\": \"mean\",\n",
    "    \"vrf67\": \"mean\",\"pchw_flow\": \"sum\",\"hwe\": \"sum\",\"vrf1\": \"mean\",\"vrf30\": \"mean\",\"vrf34\": \"mean\",\n",
    "    \"vrf74\": \"mean\",\"cwe\": \"sum\",\"hws_st_stpt\": \"mean\",\"vrf60\": \"mean\",\"vrf63\": \"mean\",\"hws_st\": \"mean\",\n",
    "    \"hws_vlv1\": \"sum\",\"vrf77\": \"mean\", \"vrf64\": \"mean\",\"vrf10\": \"mean\",\"ee\": \"sum\",\"hws_rt\": \"mean\",\n",
    "    \"vrf100\": \"mean\",\"vrf40\": \"mean\",\"hws_flow\": \"sum\",\"vrf108\": \"mean\",\"vrf20\": \"mean\", 'wbt' : \"mean\"\n",
    "}}\n",
    "\n",
    "# aggregate data\n",
    "rolling_sum_target, rolling_mean_target = [], []\n",
    "for key, value in d3['column_agg_type'].items():\n",
    "    if value == 'sum': rolling_sum_target.append(key)\n",
    "    else: rolling_mean_target.append(key)\n",
    "\n",
    "df_agg = df_cleaned1.copy()\n",
    "        \n",
    "df_agg[rolling_sum_target] =  a_utils.window_sum(df_agg, window_size=6, column_names=rolling_sum_target)\n",
    "df_agg[rolling_mean_target] =  a_utils.window_mean(df_agg, window_size=6, column_names=rolling_mean_target)\n",
    "df_agg = a_utils.dropNaNrows(df_agg)\n",
    "# sample at half hour\n",
    "df_agg = a_utils.sample_timeseries_df(df_agg, period=6)\n",
    "\n",
    "# Create column stats for half hour data\n",
    "stats_halfhour = {}\n",
    "d4 = OrderedDict(df_agg.describe())\n",
    "for key, alias in zip(d4.keys(),column_aliases):\n",
    "    stats_halfhour[alias] = dict(d4[key])\n",
    "d1['column_stats_half_hour'] = stats_halfhour\n",
    "\n"
   ]
  },
  {
   "cell_type": "code",
   "execution_count": null,
   "metadata": {
    "ExecuteTime": {
     "end_time": "2020-06-27T22:07:59.003757Z",
     "start_time": "2020-06-27T22:07:58.994792Z"
    },
    "hidden": true
   },
   "outputs": [],
   "source": [
    "with open('../alumni_scripts/meta_data1.json', 'w') as fp:\n",
    "    json.dump(d1, fp, indent=4)"
   ]
  },
  {
   "cell_type": "code",
   "execution_count": null,
   "metadata": {
    "hidden": true
   },
   "outputs": [],
   "source": []
  },
  {
   "cell_type": "code",
   "execution_count": null,
   "metadata": {
    "hidden": true,
    "scrolled": false
   },
   "outputs": [],
   "source": [
    "for col_name in df.columns:\n",
    "    utils.dataframeplot(df[[col_name]],lazy=False,legend=True)\n",
    "    utils.dataframeplot(df_cleaned[[col_name]],lazy=False,legend=True)"
   ]
  },
  {
   "cell_type": "markdown",
   "metadata": {
    "heading_collapsed": true,
    "scrolled": false
   },
   "source": [
    "## Create Time Series Data Base: Demo only"
   ]
  },
  {
   "cell_type": "code",
   "execution_count": null,
   "metadata": {
    "ExecuteTime": {
     "end_time": "2020-06-19T20:24:14.854873Z",
     "start_time": "2020-06-19T20:24:13.316916Z"
    },
    "hidden": true
   },
   "outputs": [],
   "source": [
    "# including the project directory to the notebook level\n",
    "import os\n",
    "import sys\n",
    "module_path = os.path.abspath(os.path.join('..'))\n",
    "if module_path not in sys.path:\n",
    "    sys.path.append(module_path)\n",
    "    \n",
    "# import modules\n",
    "from alumni_scripts import data_process as dp\n",
    "from alumni_scripts import alumni_data_utils as utils\n",
    "import json\n",
    "import pandas as pd\n",
    "from influxdb import DataFrameClient"
   ]
  },
  {
   "cell_type": "code",
   "execution_count": null,
   "metadata": {
    "hidden": true
   },
   "outputs": [],
   "source": [
    "df = pd.read_csv('../data/raw_data/alumni_data_jul2dec2018.csv',)\n",
    "df['time'] = pd.to_datetime(df['time'])\n",
    "df.set_index(keys='time',inplace=True, drop = True)\n",
    "df_cleaned = dp.offline_batch_data_clean(meta_data_path='../alumni_scripts/meta_data.json', df = df)"
   ]
  },
  {
   "cell_type": "code",
   "execution_count": null,
   "metadata": {
    "hidden": true
   },
   "outputs": [],
   "source": [
    "\"\"\"\n",
    "before the next steps launch influxd client at a cli\n",
    "sudo influxd\n",
    "\"\"\"\n",
    "# launch python client for influxdb\n",
    "client = DataFrameClient(host='localhost', port=8086)\n",
    "# create a database inc case it's not there\n",
    "client.create_database('demo_alumni')\n",
    "# get list of database\n",
    "client.get_list_database()\n",
    "# switch to the databaase you want\n",
    "client.switch_database('demo_alumni')\n",
    "# write \"dataframe\" as \"measurements\"\n",
    "client.write_points(dataframe=df_cleaned, measurement='alumni_jul2dec2018', protocol='line', batch_size=5000)\n",
    "# see measurement added to curent db\n",
    "client.get_list_measurements()"
   ]
  },
  {
   "cell_type": "code",
   "execution_count": null,
   "metadata": {
    "hidden": true
   },
   "outputs": [],
   "source": [
    "results_obj = client.query(\n",
    "    \"select * from alumni_jul2dec2018 where time >= '2018-11-15 12:00:00' and time < '2018-11-15 12:05:00'\"\n",
    ")\n",
    "df2 = results_obj['alumni_jul2dec2018']\n",
    "df2"
   ]
  },
  {
   "cell_type": "code",
   "execution_count": null,
   "metadata": {
    "hidden": true,
    "run_control": {
     "marked": false
    }
   },
   "outputs": [],
   "source": [
    "results_obj2 = client.query(\n",
    "    \"select * from alumni_jul2dec2018 where time = '2018-11-15 12:00:00'\"\n",
    ")\n",
    "df3 = results_obj2['alumni_jul2dec2018']\n",
    "df3"
   ]
  },
  {
   "cell_type": "code",
   "execution_count": null,
   "metadata": {
    "hidden": true
   },
   "outputs": [],
   "source": [
    "# drop the database after the demo\n",
    "client.drop_database('demo_alumni')\n",
    "client.get_list_database()"
   ]
  },
  {
   "cell_type": "code",
   "execution_count": null,
   "metadata": {
    "hidden": true
   },
   "outputs": [],
   "source": [
    "# close client\n",
    "client.close()"
   ]
  },
  {
   "cell_type": "markdown",
   "metadata": {
    "heading_collapsed": true
   },
   "source": [
    "## Code cemetery"
   ]
  },
  {
   "cell_type": "code",
   "execution_count": null,
   "metadata": {
    "ExecuteTime": {
     "end_time": "2020-06-20T22:22:24.658879Z",
     "start_time": "2020-06-20T22:22:24.649558Z"
    },
    "hidden": true
   },
   "outputs": [],
   "source": [
    "time_str = '2018-11-15 13:12:00'\n",
    "from datetime import datetime, timedelta\n",
    "time_now = datetime.strptime(time_str, '%Y-%m-%d %H:%M:%S')\n",
    "print(time_now)\n",
    "time_now_str = str(time_now)\n",
    "print(time_now_str)\n",
    "time_now ==time_now_str"
   ]
  },
  {
   "cell_type": "code",
   "execution_count": null,
   "metadata": {
    "ExecuteTime": {
     "end_time": "2020-06-21T16:17:03.354684Z",
     "start_time": "2020-06-21T16:17:03.349072Z"
    },
    "hidden": true
   },
   "outputs": [],
   "source": [
    "with open('../alumni_scripts/meta_data.json', 'r') as fp:\n",
    "        meta_data_ = json.load(fp)\n",
    "meta_data_['column_agg_type']['pchwst']"
   ]
  },
  {
   "cell_type": "code",
   "execution_count": null,
   "metadata": {
    "ExecuteTime": {
     "end_time": "2020-06-20T18:09:27.277220Z",
     "start_time": "2020-06-20T18:09:27.271113Z"
    },
    "hidden": true
   },
   "outputs": [],
   "source": [
    "meta_data_['column_agg_type'].values()"
   ]
  },
  {
   "cell_type": "code",
   "execution_count": null,
   "metadata": {
    "ExecuteTime": {
     "end_time": "2020-06-20T18:15:04.955338Z",
     "start_time": "2020-06-20T18:15:04.949929Z"
    },
    "hidden": true
   },
   "outputs": [],
   "source": [
    "rolling_sum_target = []\n",
    "rolling_mean_target = []\n",
    "for key, value in meta_data_['column_agg_type'].items():\n",
    "    if value == 'sum': rolling_sum_target.append(key)\n",
    "    else: rolling_mean_target.append(key)"
   ]
  },
  {
   "cell_type": "code",
   "execution_count": null,
   "metadata": {
    "ExecuteTime": {
     "end_time": "2020-06-20T18:16:14.744650Z",
     "start_time": "2020-06-20T18:16:14.738769Z"
    },
    "hidden": true
   },
   "outputs": [],
   "source": [
    "rolling_sum_target"
   ]
  },
  {
   "cell_type": "code",
   "execution_count": null,
   "metadata": {
    "hidden": true
   },
   "outputs": [],
   "source": [
    "q = {'c': '11', 'b' : ['1f3','a']}\n",
    "with open('../logs/cwe_test_info.txt', 'a') as ifile:\n",
    "        ifile.write(json.dumps(q)+'\\n',)      \n",
    "with open('../logs/cwe_test_info.txt') as f:\n",
    "    for line in f:\n",
    "        document = json.loads(line)\n",
    "        print(document)"
   ]
  },
  {
   "cell_type": "code",
   "execution_count": null,
   "metadata": {
    "hidden": true
   },
   "outputs": [],
   "source": []
  },
  {
   "cell_type": "code",
   "execution_count": null,
   "metadata": {
    "ExecuteTime": {
     "end_time": "2020-07-31T21:46:44.327977Z",
     "start_time": "2020-07-31T21:46:44.323491Z"
    },
    "hidden": true
   },
   "outputs": [],
   "source": [
    "import pandas as pd\n",
    "from CoolProp.HumidAirProp import HAPropsSI\n",
    "from dateutil import tz\n",
    "\n",
    "df_ = pd.read_csv('../data/trend_data/alumni_data_train.csv', )\n",
    "df_['time'] = pd.to_datetime(df_['time'])\n",
    "to_zone = tz.tzlocal()\n",
    "df_['time'] = df_['time'].apply(lambda x: x.astimezone(to_zone)) # convert time to loca timezones\n",
    "df_.set_index(keys='time',inplace=True, drop = True)\n",
    "df_ = a_utils.dropNaNrows(df_)\n",
    "\n",
    "rh = df_['WeatherDataProfile humidity']/100\n",
    "rh = rh.to_numpy()\n",
    "t_db = 5*(df_['AHU_1 outdoorAirTemp']-32)/9 + 273.15\n",
    "t_db = t_db.to_numpy()\n",
    "\n",
    "tdb_rh = np.concatenate((t_db.reshape(-1,1), rh.reshape(-1,1)), axis=1)"
   ]
  },
  {
   "cell_type": "code",
   "execution_count": null,
   "metadata": {
    "ExecuteTime": {
     "end_time": "2020-07-31T21:51:53.372663Z",
     "start_time": "2020-07-31T21:51:53.365208Z"
    },
    "hidden": true
   },
   "outputs": [],
   "source": [
    "import multiprocessing\n",
    "import psutil\n",
    "chunks = [\n",
    "    (sub_arr[:, 0].flatten(), sub_arr[:, 1].flatten(), cpu_id)\n",
    "    for cpu_id, sub_arr in enumerate(np.array_split(tdb_rh, multiprocessing.cpu_count(), axis=0))]\n",
    "\n",
    "def unpacking_apply_along_axis(all_args):\n",
    "    t_db, rh, cpu_id = all_args\n",
    "    \n",
    "    proc = psutil.Process()\n",
    "    proc.cpu_affinity([cpu_id])\n",
    "    \n",
    "    T = HAPropsSI('T_wb','R',rh,'T',t_db,'P',101325)\n",
    "    return T\n",
    "\n",
    "pool = multiprocessing.Pool()\n",
    "individual_results = pool.map(unpacking_apply_along_axis, chunks)\n",
    "# Freeing the workers:\n",
    "pool.close()\n",
    "pool.join()\n",
    "final_T = np.concatenate(individual_results)"
   ]
  },
  {
   "cell_type": "markdown",
   "metadata": {
    "heading_collapsed": true
   },
   "source": [
    "## Plotly example"
   ]
  },
  {
   "cell_type": "code",
   "execution_count": null,
   "metadata": {
    "ExecuteTime": {
     "end_time": "2020-08-01T17:07:29.575413Z",
     "start_time": "2020-08-01T17:07:28.300253Z"
    },
    "hidden": true
   },
   "outputs": [],
   "source": [
    "import numpy as np\n",
    "import plotly.graph_objects as go"
   ]
  },
  {
   "cell_type": "code",
   "execution_count": null,
   "metadata": {
    "ExecuteTime": {
     "end_time": "2020-08-01T17:31:08.908739Z",
     "start_time": "2020-08-01T17:31:08.859039Z"
    },
    "hidden": true
   },
   "outputs": [],
   "source": [
    "basepath='../tmp/cwe_data/cwe'\n",
    "labelnames = ['sat-oat', 'oah', 'wbt', 'pchw_flow', 'cwe']\n",
    "X_train = np.load(basepath+'_X_train.npy')\n",
    "y_train = np.load(basepath+'_y_train.npy')\n",
    "X_val = np.load(basepath+'_X_val.npy')\n",
    "y_val = np.load(basepath+'_y_val.npy')\n",
    "\n",
    "train = np.concatenate((X_train, y_train), axis=-1)[:,0,:]\n",
    "\n",
    "fig = go.Figure()\n",
    "for i in range(train.shape[1]):\n",
    "    fig.add_trace(go.Scatter(y=train[:, i], mode='lines', name=labelnames[i]))\n",
    "\n",
    "# Edit the layout\n",
    "fig.update_layout(title='Different Variables',\n",
    "                  xaxis_title='Time Points',\n",
    "                  yaxis_title='Scaled Values',\n",
    "                  font = {'family':'Times New Roman', 'size': 15})\n",
    "\n",
    "fig.show()"
   ]
  },
  {
   "cell_type": "code",
   "execution_count": null,
   "metadata": {
    "ExecuteTime": {
     "end_time": "2020-08-01T17:31:34.622151Z",
     "start_time": "2020-08-01T17:31:34.573219Z"
    },
    "hidden": true,
    "scrolled": false
   },
   "outputs": [],
   "source": [
    "basepath='../tmp/hwe_data/hwe'\n",
    "labelnames = ['oat', 'oah', 'wbt', 'sat-oat', 'hwe']\n",
    "X_train = np.load(basepath+'_X_train.npy')\n",
    "y_train = np.load(basepath+'_y_train.npy')\n",
    "X_val = np.load(basepath+'_X_val.npy')\n",
    "y_val = np.load(basepath+'_y_val.npy')\n",
    "\n",
    "train = np.concatenate((X_train, y_train), axis=-1)[:,0,:]\n",
    "\n",
    "fig = go.Figure()\n",
    "for i in range(train.shape[1]):\n",
    "    fig.add_trace(go.Scatter(y=train[:, i], mode='lines', name=labelnames[i]))\n",
    "\n",
    "# Edit the layout\n",
    "fig.update_layout(title='Different Variables',\n",
    "                  xaxis_title='Time Points',\n",
    "                  yaxis_title='Scaled Values',\n",
    "                  font = {'family':'Times New Roman', 'size': 15})\n",
    "\n",
    "fig.show()"
   ]
  },
  {
   "cell_type": "code",
   "execution_count": null,
   "metadata": {
    "ExecuteTime": {
     "end_time": "2020-08-01T17:31:56.393633Z",
     "start_time": "2020-08-01T17:31:56.195464Z"
    },
    "hidden": true
   },
   "outputs": [],
   "source": [
    "basepath='../tmp/vlv_data/vlv'\n",
    "labelnames = ['oat', 'oah', 'wbt', 'sat-oat', 'vlv_off', 'vlv_on']\n",
    "X_train = np.load(basepath+'_X_train.npy')\n",
    "y_train = np.load(basepath+'_y_train.npy')\n",
    "X_val = np.load(basepath+'_X_val.npy')\n",
    "y_val = np.load(basepath+'_y_val.npy')\n",
    "\n",
    "train = np.concatenate((X_train, y_train), axis=-1)[:,0,:]\n",
    "\n",
    "fig = go.Figure()\n",
    "for i in range(train.shape[1]):\n",
    "    fig.add_trace(go.Scatter(y=train[:, i], mode='lines', name=labelnames[i]))\n",
    "\n",
    "# Edit the layout\n",
    "fig.update_layout(title='Different Variables',\n",
    "                  xaxis_title='Time Points',\n",
    "                  yaxis_title='Scaled Values',\n",
    "                  font = {'family':'Times New Roman', 'size': 15})\n",
    "\n",
    "fig.show()"
   ]
  },
  {
   "cell_type": "code",
   "execution_count": null,
   "metadata": {
    "hidden": true
   },
   "outputs": [],
   "source": []
  }
 ],
 "metadata": {
  "kernelspec": {
   "display_name": "Python 3.6.9 64-bit ('sbvenv1': venv)",
   "language": "python",
   "name": "python36964bitsbvenv1venvf8f19bb32ed941ad82d727bac6ccbb65"
  },
  "language_info": {
   "codemirror_mode": {
    "name": "ipython",
    "version": 3
   },
   "file_extension": ".py",
   "mimetype": "text/x-python",
   "name": "python",
   "nbconvert_exporter": "python",
   "pygments_lexer": "ipython3",
   "version": "3.6.9-final"
  },
  "toc": {
   "base_numbering": 1,
   "nav_menu": {},
   "number_sections": true,
   "sideBar": true,
   "skip_h1_title": false,
   "title_cell": "Table of Contents",
   "title_sidebar": "Contents",
   "toc_cell": false,
   "toc_position": {
    "height": "calc(100% - 180px)",
    "left": "10px",
    "top": "150px",
    "width": "278px"
   },
   "toc_section_display": true,
   "toc_window_display": true
  }
 },
 "nbformat": 4,
 "nbformat_minor": 4
}